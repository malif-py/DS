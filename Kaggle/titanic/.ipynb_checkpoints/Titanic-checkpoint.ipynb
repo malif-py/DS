{
 "cells": [
  {
   "cell_type": "markdown",
   "id": "32ba2201",
   "metadata": {},
   "source": [
    "# Titanic - Machine Learning from Disaster"
   ]
  },
  {
   "cell_type": "markdown",
   "id": "5db10f46",
   "metadata": {},
   "source": [
    "Problem: Titanic from [Kaggle](https://www.kaggle.com/c/titanic/overview)\n",
    "    \n",
    "Use machine learning to create a model that predicts which passengers survived the Titanic shipwreck!"
   ]
  },
  {
   "cell_type": "code",
   "execution_count": 1,
   "id": "b68fcf25",
   "metadata": {},
   "outputs": [],
   "source": [
    "# Importing Libraries\n",
    "\n",
    "import numpy as np\n",
    "import pandas as pd\n",
    "import matplotlib.pyplot as plt"
   ]
  },
  {
   "cell_type": "code",
   "execution_count": 2,
   "id": "a732380d",
   "metadata": {},
   "outputs": [],
   "source": [
    "# Load data\n",
    "\n",
    "train = pd.read_csv(\"./train.csv\")\n",
    "test  = pd.read_csv(\"./test.csv\")\n",
    "\n",
    "# Data Dictionary\n",
    "\n",
    "# survival : Survival (0 = No, 1 = Yes)\n",
    "# pclass   : Ticket class (1 = 1st, 2 = 2nd, 3 = 3rd)\n",
    "# sex      : Sex\n",
    "# Age      : Age in years\n",
    "# sibsp    : # of siblings / spouses aboard the Titanic\n",
    "# parch    : # of parents / children aboard the Titanic\n",
    "# ticket   : Ticket number\n",
    "# fare     : Passenger fare\n",
    "# cabin    : Cabin number\n",
    "# embarked : Port of Embarkation (C = Cherbourg, Q = Queenstown, S = Southampton)"
   ]
  },
  {
   "cell_type": "code",
   "execution_count": 3,
   "id": "12edff57",
   "metadata": {},
   "outputs": [
    {
     "name": "stdout",
     "output_type": "stream",
     "text": [
      "<class 'pandas.core.frame.DataFrame'>\n",
      "RangeIndex: 891 entries, 0 to 890\n",
      "Data columns (total 12 columns):\n",
      " #   Column       Non-Null Count  Dtype  \n",
      "---  ------       --------------  -----  \n",
      " 0   PassengerId  891 non-null    int64  \n",
      " 1   Survived     891 non-null    int64  \n",
      " 2   Pclass       891 non-null    int64  \n",
      " 3   Name         891 non-null    object \n",
      " 4   Sex          891 non-null    object \n",
      " 5   Age          714 non-null    float64\n",
      " 6   SibSp        891 non-null    int64  \n",
      " 7   Parch        891 non-null    int64  \n",
      " 8   Ticket       891 non-null    object \n",
      " 9   Fare         891 non-null    float64\n",
      " 10  Cabin        204 non-null    object \n",
      " 11  Embarked     889 non-null    object \n",
      "dtypes: float64(2), int64(5), object(5)\n",
      "memory usage: 83.7+ KB\n"
     ]
    }
   ],
   "source": [
    "train.info()"
   ]
  },
  {
   "cell_type": "code",
   "execution_count": null,
   "id": "d4e1d60c",
   "metadata": {},
   "outputs": [],
   "source": []
  }
 ],
 "metadata": {
  "kernelspec": {
   "display_name": "Python 3 (ipykernel)",
   "language": "python",
   "name": "python3"
  },
  "language_info": {
   "codemirror_mode": {
    "name": "ipython",
    "version": 3
   },
   "file_extension": ".py",
   "mimetype": "text/x-python",
   "name": "python",
   "nbconvert_exporter": "python",
   "pygments_lexer": "ipython3",
   "version": "3.9.6"
  }
 },
 "nbformat": 4,
 "nbformat_minor": 5
}
